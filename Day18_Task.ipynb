{
 "cells": [
  {
   "cell_type": "markdown",
   "id": "3345e552",
   "metadata": {},
   "source": [
    "### Regression\n",
    "Regression is a form of predictive modelling technique which helps in creating a relationship between a dependent and independent variable.\n",
    "\n",
    "**Types of Regression**\n",
    "Linear Regression<br>\n",
    "Logistic Regression<br>\n",
    "Polynomial Regression<br>\n",
    "Stepwise Regression<br>\n",
    "\n",
    "### Linear Regression\n",
    "Linear regression is one of the simplest standard tool in machine learning. It is a statistical method and its main objective is to find a relationship between one or more features(independent variables) and a continuous target variable(dependent variable). When there is only feature it is called Uni-variate Linear Regression and if there are multiple features, it is called Multiple Linear Regression.\n",
    "\n",
    "Let X be the independent variable and Y be the dependent variable. We will define a linear relationship between these two variables as follows:\n",
    "Y=mX+c  where m is the slope of the line and c is the y intercept. \n",
    "\n",
    "**Applications**\n",
    "Linear regressions can be used in business to evaluate trends and make estimates or forecasts.<br>\n",
    "Linear regression can also be used to analyze the effect of pricing on consumer behaviour.<br>\n",
    "Linear regression can be used to analyze risk and guide important business decisions made to account for risk."
   ]
  },
  {
   "cell_type": "markdown",
   "id": "aba41b33",
   "metadata": {},
   "source": [
    "### Least Square Method – Finding the best fit line\n",
    "Least squares is a statistical method used to determine the best fit line or the regression line by minimizing the sum of squares created by a mathematical function. The “square” here refers to squaring the distance between a data point and the regression line. The line with the minimum value of the sum of square is the best-fit regression line. \n",
    "Regression Line, y = mx+c where,\n",
    "\n",
    "y = Dependent Variable\n",
    "x= Independent Variable ; c = y-Intercept ; m= (Σ(x-x̅)(y-ȳ))/(Σ((x-x̅)^2))\n",
    "\n"
   ]
  },
  {
   "cell_type": "code",
   "execution_count": 13,
   "id": "12a7ca2b",
   "metadata": {},
   "outputs": [
    {
     "name": "stdout",
     "output_type": "stream",
     "text": [
      "Coefficients:  0.26342933948939945 325.57342104944223\n"
     ]
    }
   ],
   "source": [
    "import pandas as pd\n",
    "import numpy as np\n",
    "import matplotlib.pyplot as plt\n",
    "\n",
    "data = pd.read_csv('headbrain.csv')\n",
    "X = data.iloc[:, 2]\n",
    "Y = data.iloc[:, 3]\n",
    "\n",
    "#In order to find the value of m and c, you first need to calculate the mean of X and Y\n",
    "mean_x = np.mean(X)\n",
    "mean_y = np.mean(Y)\n",
    " \n",
    "# Using the formula to calculate m and c\n",
    "numer = 0\n",
    "denom = 0\n",
    "for i in range(len(X)): \n",
    "    numer += ((X[i] - mean_x) * (Y[i] - mean_y))\n",
    "    denom += (X[i] - mean_x) ** 2\n",
    "m = numer / denom\n",
    "c = mean_y - (m * mean_x)\n",
    " \n",
    "# Print coefficients\n",
    "print(\"Coefficients: \",m, c)"
   ]
  },
  {
   "cell_type": "markdown",
   "id": "a88bca79",
   "metadata": {},
   "source": [
    "for each actual value of x, we will find the predicted values of y. Once we get the points we can plot them over and create the Linear Regression Line"
   ]
  },
  {
   "cell_type": "code",
   "execution_count": 10,
   "id": "ac47f740",
   "metadata": {},
   "outputs": [
    {
     "data": {
      "image/png": "[encoded data removed]",
      "text/plain": [
       "<Figure size 432x288 with 1 Axes>"
      ]
     },
     "metadata": {
      "needs_background": "light"
     },
     "output_type": "display_data"
    }
   ],
   "source": [
    "max_x = np.max(X) + 100\n",
    "min_x = np.min(X) - 100\n",
    "# Calculating line values x and y\n",
    "x = np.linspace(min_x, max_x, 1000)\n",
    "y = c + m * x    #predicted\n",
    " \n",
    "# Ploting Line\n",
    "plt.plot(x, y, color='blue', label='Regression Line')\n",
    "# Ploting Scatter Points\n",
    "plt.scatter(X, Y, c='green', label='Scatter Plot')\n",
    " \n",
    "plt.xlabel('Head Size(cm3)')\n",
    "plt.ylabel('Brain Weight(g)')\n",
    "plt.legend()\n",
    "plt.show()"
   ]
  },
  {
   "cell_type": "markdown",
   "id": "e56fcac4",
   "metadata": {},
   "source": [
    "There wont be much accuracy because we are simply taking a straight line and forcing it to fit into the given data in the best possible way. But you can use this to make simple predictions or get an idea about the magnitude/range of the real value. "
   ]
  },
  {
   "cell_type": "markdown",
   "id": "4e8752b0",
   "metadata": {},
   "source": [
    "### R Square Method – Goodness of Fit\n",
    "R–squared value is the statistical measure to show how close the data are to the fitted regression line.\n",
    "R-squared does not indicate whether a regression model is adequate.The higher the R-squared, the better the model fits your data.\n",
    "\n",
    "R^2 = 1-((Σ((y-ȳ)^2))/(Σ((y-yp)^2))  ;yp=predicted value of y"
   ]
  },
  {
   "cell_type": "code",
   "execution_count": 29,
   "id": "f988bc2d",
   "metadata": {},
   "outputs": [
    {
     "name": "stdout",
     "output_type": "stream",
     "text": [
      "Value of R^2 :  0.6393117199570003\n"
     ]
    }
   ],
   "source": [
    "ss_t = 0\n",
    "ss_r = 0\n",
    "for i in range(len(X)):\n",
    "    y_pred = c + m * X[i]\n",
    "    ss_t = ss_t + ((Y[i] - mean_y) ** 2)   #ss_t is the total sum of squares\n",
    "    ss_r = ss_r +((Y[i] - y_pred) ** 2 )     #ss_r is the total sum of squares of residuals\n",
    "r2 = 1 - (ss_r/ss_t)\n",
    "print(\"Value of R^2 : \",r2)"
   ]
  },
  {
   "cell_type": "code",
   "execution_count": null,
   "id": "7f390b79",
   "metadata": {},
   "outputs": [],
   "source": []
  }
 ],
 "metadata": {
  "kernelspec": {
   "display_name": "Python 3",
   "language": "python",
   "name": "python3"
  },
  "language_info": {
   "codemirror_mode": {
    "name": "ipython",
    "version": 3
   },
   "file_extension": ".py",
   "mimetype": "text/x-python",
   "name": "python",
   "nbconvert_exporter": "python",
   "pygments_lexer": "ipython3",
   "version": "3.8.8"
  }
 },
 "nbformat": 4,
 "nbformat_minor": 5
}
