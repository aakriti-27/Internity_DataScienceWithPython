{
 "cells": [
  {
   "cell_type": "markdown",
   "id": "0edd9baf",
   "metadata": {},
   "source": [
    "### SciPy\n",
    "SciPy is a scientific computation library that uses NumPy underneath.SciPy stands for Scientific Python.\n",
    "It provides more utility functions for optimization, stats and signal processing.\n",
    "SciPy has optimized and added functions that are frequently used in NumPy and Data Science.\n",
    "\n",
    "**Constants in SciPy**\n",
    "SciPy provides many built-in scientific constants.These constants can be helpful when you are working with Data Science."
   ]
  },
  {
   "cell_type": "code",
   "execution_count": 3,
   "id": "5d128bd5",
   "metadata": {},
   "outputs": [
    {
     "name": "stdout",
     "output_type": "stream",
     "text": [
      "Value of pie:  3.141592653589793\n",
      "['Avogadro', 'Boltzmann', 'Btu', 'Btu_IT', 'Btu_th', 'ConstantWarning', 'G', 'Julian_year', 'N_A', 'Planck', 'R', 'Rydberg', 'Stefan_Boltzmann', 'Wien', '__all__', '__builtins__', '__cached__', '__doc__', '__file__', '__loader__', '__name__', '__package__', '__path__', '__spec__', '_obsolete_constants', 'acre', 'alpha', 'angstrom', 'arcmin', 'arcminute', 'arcsec', 'arcsecond', 'astronomical_unit', 'atm', 'atmosphere', 'atomic_mass', 'atto', 'au', 'bar', 'barrel', 'bbl', 'blob', 'c', 'calorie', 'calorie_IT', 'calorie_th', 'carat', 'centi', 'codata', 'constants', 'convert_temperature', 'day', 'deci', 'degree', 'degree_Fahrenheit', 'deka', 'dyn', 'dyne', 'e', 'eV', 'electron_mass', 'electron_volt', 'elementary_charge', 'epsilon_0', 'erg', 'exa', 'exbi', 'femto', 'fermi', 'find', 'fine_structure', 'fluid_ounce', 'fluid_ounce_US', 'fluid_ounce_imp', 'foot', 'g', 'gallon', 'gallon_US', 'gallon_imp', 'gas_constant', 'gibi', 'giga', 'golden', 'golden_ratio', 'grain', 'gram', 'gravitational_constant', 'h', 'hbar', 'hectare', 'hecto', 'horsepower', 'hour', 'hp', 'inch', 'k', 'kgf', 'kibi', 'kilo', 'kilogram_force', 'kmh', 'knot', 'lambda2nu', 'lb', 'lbf', 'light_year', 'liter', 'litre', 'long_ton', 'm_e', 'm_n', 'm_p', 'm_u', 'mach', 'mebi', 'mega', 'metric_ton', 'micro', 'micron', 'mil', 'mile', 'milli', 'minute', 'mmHg', 'mph', 'mu_0', 'nano', 'nautical_mile', 'neutron_mass', 'nu2lambda', 'ounce', 'oz', 'parsec', 'pebi', 'peta', 'physical_constants', 'pi', 'pico', 'point', 'pound', 'pound_force', 'precision', 'proton_mass', 'psi', 'pt', 'short_ton', 'sigma', 'slinch', 'slug', 'speed_of_light', 'speed_of_sound', 'stone', 'survey_foot', 'survey_mile', 'tebi', 'tera', 'test', 'ton_TNT', 'torr', 'troy_ounce', 'troy_pound', 'u', 'unit', 'value', 'week', 'yard', 'year', 'yobi', 'yotta', 'zebi', 'zepto', 'zero_Celsius', 'zetta']\n"
     ]
    }
   ],
   "source": [
    "from scipy import constants\n",
    "\n",
    "print(\"Value of pie: \",constants.pi)\n",
    "\n",
    "#list of all units under the constants module\n",
    "print(dir(constants))"
   ]
  },
  {
   "cell_type": "markdown",
   "id": "c0d58ac2",
   "metadata": {},
   "source": [
    "Some constant units-"
   ]
  },
  {
   "cell_type": "code",
   "execution_count": 10,
   "id": "932203ac",
   "metadata": {},
   "outputs": [
    {
     "name": "stdout",
     "output_type": "stream",
     "text": [
      "1000.0\n",
      "1e-06\n",
      "1048576\n",
      "1073741824\n",
      "0.001\n",
      "1000.0\n",
      "0.017453292519943295\n",
      "60.0\n",
      "3600.0\n"
     ]
    }
   ],
   "source": [
    "#Metric (SI) Prefixes: Return the specified unit in meter \n",
    "print(constants.kilo)  \n",
    "print(constants.micro) \n",
    "\n",
    "#Binary Prefixes: Return the specified unit in bytes\n",
    "print(constants.mebi)\n",
    "print(constants.gibi) \n",
    "\n",
    "#Mass: Return the specified unit in kg \n",
    "print(constants.gram)        \n",
    "print(constants.metric_ton)\n",
    "\n",
    "#Angle: Return the specified unit in radians\n",
    "print(constants.degree)   \n",
    "\n",
    "#Time: Return the specified unit in seconds\n",
    "print(constants.minute)     \n",
    "print(constants.hour)      \n"
   ]
  },
  {
   "cell_type": "markdown",
   "id": "b9b2503a",
   "metadata": {},
   "source": [
    "### Optimizers in SciPy\n",
    "Optimizers are a set of procedures defined in SciPy that either find the minimum value of a function, or the root of an equation.\n",
    "\n",
    "optimze.root function helps to find the roots of both linear and non linear equations\n",
    "Arguments - fun - a function representing an equation.  ,  x0 - an initial guess for the root.\n",
    "\n",
    "The function returns an object with information regarding the solution.The actual solution is given under attribute x of the returned object."
   ]
  },
  {
   "cell_type": "code",
   "execution_count": 17,
   "id": "3193eb4f",
   "metadata": {},
   "outputs": [
    {
     "name": "stdout",
     "output_type": "stream",
     "text": [
      "[-0.73908513]\n"
     ]
    }
   ],
   "source": [
    "from scipy.optimize import root\n",
    "from math import cos\n",
    "\n",
    "def eqn(x):\n",
    "  return x + cos(x)\n",
    "myroot = root(eqn, 0)\n",
    "print(myroot.x)"
   ]
  },
  {
   "cell_type": "markdown",
   "id": "ece21b7a",
   "metadata": {},
   "source": [
    "**Minimizing a Function**\n",
    "\n",
    "A function, in this context, represents a curve, curves have high points(mazima) and low points(minima).\n",
    "Finding Minima\n",
    "We can use scipy.optimize.minimize() function to minimize the function."
   ]
  },
  {
   "cell_type": "code",
   "execution_count": 19,
   "id": "0e680428",
   "metadata": {},
   "outputs": [
    {
     "name": "stdout",
     "output_type": "stream",
     "text": [
      "[-0.5]\n"
     ]
    }
   ],
   "source": [
    "from scipy.optimize import minimize\n",
    "def eqn(x):\n",
    "  return x**2 + x + 2\n",
    "\n",
    "mymin = minimize(eqn, 0, method='CG')#CG - conjugate gradient method to minimize qauadratic equation\n",
    "print(mymin.x)"
   ]
  },
  {
   "cell_type": "markdown",
   "id": "94790956",
   "metadata": {},
   "source": [
    "### Sparse Data\n",
    "Sparse data is data that has mostly unused elements (elements that don't carry any information ).Most of the item values are zero.\n",
    "scipy.sparse that provides functions to deal with sparse data.\n",
    "\n",
    "Two types of sparse matrices that we use:\n",
    "CSC - Compressed Sparse Column. For efficient arithmetic, fast column slicing.\n",
    "CSR - Compressed Sparse Row. For fast row slicing, faster matrix vector products"
   ]
  },
  {
   "cell_type": "code",
   "execution_count": 28,
   "id": "e78ff141",
   "metadata": {},
   "outputs": [
    {
     "name": "stdout",
     "output_type": "stream",
     "text": [
      "  (0, 5)\t1\n",
      "  (0, 6)\t1\n",
      "  (0, 8)\t2\n"
     ]
    }
   ],
   "source": [
    "import numpy as np\n",
    "from scipy.sparse import csr_matrix\n",
    "\n",
    "arr = np.array([0, 0, 0, 0, 0, 1, 1, 0, 2])\n",
    "print(csr_matrix(arr))"
   ]
  },
  {
   "cell_type": "code",
   "execution_count": 35,
   "id": "2294ad55",
   "metadata": {},
   "outputs": [
    {
     "name": "stdout",
     "output_type": "stream",
     "text": [
      "Data:  [5 7 2]\n",
      "count:  3\n",
      "Matrix after Removing zero-entries:    (0, 5)\t1\n",
      "  (0, 6)\t1\n",
      "  (0, 8)\t2\n",
      "Matrix after eliminating duplicates:    (0, 5)\t1\n",
      "  (0, 6)\t1\n",
      "  (0, 8)\t2\n",
      "CSC matrix:    (0, 5)\t1\n",
      "  (0, 6)\t1\n",
      "  (0, 8)\t2\n"
     ]
    }
   ],
   "source": [
    "a = np.array([[0, 5, 0], [0, 0, 7], [0, 0, 2]])\n",
    "\n",
    "#Viewing stored data (not the zero items) with the data property\n",
    "print(\"Data: \",csr_matrix(a).data)\n",
    "#Counting nonzeros \n",
    "print(\"count: \",csr_matrix(a).count_nonzero())\n",
    "\n",
    "#Removing zero-entries from the matrix \n",
    "matrix = csr_matrix(arr)\n",
    "matrix.eliminate_zeros()\n",
    "print(\"Matrix after Removing zero-entries: \",matrix)\n",
    "\n",
    "#Eliminating duplicate entries by adding them\n",
    "matrix = csr_matrix(arr)\n",
    "matrix.sum_duplicates()\n",
    "print(\"Matrix after eliminating duplicates: \",matrix)\n",
    "\n",
    "#Converting from csr to csc \n",
    "new = csr_matrix(arr).tocsc()\n",
    "print(\"CSC matrix: \",new)"
   ]
  },
  {
   "cell_type": "markdown",
   "id": "1248b0fd",
   "metadata": {},
   "source": [
    "### SciPy - Integrate \n",
    "Scipy has a number of routines for performing numerical integration in scipy.integrate library. \n",
    "\n",
    "scipy.integrate.quad(f, a, b) performs single integrals of a function f(x) over a given fixed range from a to b(lower and upper limits).\n"
   ]
  },
  {
   "cell_type": "code",
   "execution_count": 37,
   "id": "dd2a1096",
   "metadata": {},
   "outputs": [
    {
     "name": "stdout",
     "output_type": "stream",
     "text": [
      "(0.8075111821396714, 8.965175070537417e-15)\n"
     ]
    }
   ],
   "source": [
    "import scipy.integrate\n",
    "from numpy import exp\n",
    "func= lambda x:exp(-x**3)\n",
    "i = scipy.integrate.quad(func, 0, 1)\n",
    "print(i)  #The quad function returns the two values, in which the first number is the value of integral\n",
    "#the second value is the estimate of the absolute error in the value of integral."
   ]
  },
  {
   "cell_type": "markdown",
   "id": "daae3c55",
   "metadata": {},
   "source": [
    "For Double Integrate - scipy.integrate.dblquad(func, a, b, gfun, hfun) where, func is the name of the function to be integrated, ‘a’ and ‘b’ are the lower and upper limits of the x variable, respectively, while gfun and hfun are the names of the functions that define the lower and upper limits of the y variable"
   ]
  },
  {
   "cell_type": "code",
   "execution_count": 40,
   "id": "34b63e21",
   "metadata": {},
   "outputs": [
    {
     "name": "stdout",
     "output_type": "stream",
     "text": [
      "(-0.0625, 2.1365437515743564e-15)\n"
     ]
    }
   ],
   "source": [
    "f = lambda x, y : 2*x*y\n",
    "g = lambda x : 1\n",
    "h = lambda y : 2*y\n",
    "i = scipy.integrate.dblquad(f, 0, 0.5, g, h)\n",
    "print(i)"
   ]
  },
  {
   "cell_type": "markdown",
   "id": "967f9574",
   "metadata": {},
   "source": [
    "### SciPy - Interpolate\n",
    "Interpolation is the process of finding a value between two points on a line or a curve.It can be done using the scipy.interpolate package.\n",
    "\n",
    "The interp1d class in the scipy.interpolate is a convenient method to create a function based on fixed data points, which can be evaluated anywhere within the domain defined by the given data using linear interpolation.\n",
    "These functions, for a given input x returns y. The third variable kind represents the type of the interpolation technique. 'Linear', 'Nearest', 'Zero', 'Slinear', 'Quadratic', 'Cubic' are a few techniques of interpolation."
   ]
  },
  {
   "cell_type": "code",
   "execution_count": 49,
   "id": "fb1cc019",
   "metadata": {},
   "outputs": [
    {
     "name": "stdout",
     "output_type": "stream",
     "text": [
      "[0.         0.44444444 0.88888889 1.33333333 1.77777778 2.22222222\n",
      " 2.66666667 3.11111111 3.55555556 4.        ] [ 0.          0.0394959   0.15736782  0.34811123  0.59083932  0.83473663\n",
      "  0.98898316  0.93412157  0.57548543 -0.05837414]\n"
     ]
    },
    {
     "data": {
      "image/png": "[encoded data removed]",
      "text/plain": [
       "<Figure size 432x288 with 1 Axes>"
      ]
     },
     "metadata": {
      "needs_background": "light"
     },
     "output_type": "display_data"
    },
    {
     "data": {
      "image/png": "[encoded data removed]",
      "text/plain": [
       "<Figure size 432x288 with 1 Axes>"
      ]
     },
     "metadata": {
      "needs_background": "light"
     },
     "output_type": "display_data"
    }
   ],
   "source": [
    "import numpy as np\n",
    "from scipy import interpolate\n",
    "import matplotlib.pyplot as plt\n",
    "x = np.linspace(0, 4, 10)   #Return evenly spaced numbers over a specified interval\n",
    "y = np.sin(x**2/5)\n",
    "print(x,y)\n",
    "plt.plot(x, y,'s')\n",
    "plt.show()\n",
    "\n",
    "f1 = interpolate.interp1d(x, y,kind = 'linear')\n",
    "f2 = interpolate.interp1d(x, y, kind = 'nearest')\n",
    "f3 = interpolate.interp1d(x, y, kind = 'cubic')\n",
    "x_new = np.linspace(0, 4,20)\n",
    "plt.plot(x, y, 's', x_new, f1(x_new), '-', x_new, f2(x_new), '--', x_new, f3(x_new), ':')\n",
    "plt.legend(['data', 'linear','nearest','cubic'], loc = 'best')\n",
    "plt.show()"
   ]
  },
  {
   "cell_type": "markdown",
   "id": "1d31584f",
   "metadata": {},
   "source": [
    "**Univariate Spline** \n",
    "One-dimensional smoothing spline fits a given set of data points. \n",
    "The UnivariateSpline class in scipy.interpolate is a convenient method to create a function, based on fixed data points class – scipy.interpolate.UnivariateSpline(x, y, w = None, bbox = [None, None], k = 3, s = None, ext = 0, check_finite = False).\n",
    "\n",
    "(pins were placed at a judicious selection of points along a curve in a design, and then the spline was bent, so that it touched each of these pins.The points where the pins are located is called knots.)"
   ]
  },
  {
   "cell_type": "code",
   "execution_count": 53,
   "id": "0544ad0b",
   "metadata": {},
   "outputs": [
    {
     "data": {
      "image/png": "[encoded data removed]",
      "text/plain": [
       "<Figure size 432x288 with 1 Axes>"
      ]
     },
     "metadata": {
      "needs_background": "light"
     },
     "output_type": "display_data"
    },
    {
     "data": {
      "image/png": "[encoded data removed]",
      "text/plain": [
       "<Figure size 432x288 with 1 Axes>"
      ]
     },
     "metadata": {
      "needs_background": "light"
     },
     "output_type": "display_data"
    },
    {
     "data": {
      "image/png": "[encoded data removed]",
      "text/plain": [
       "<Figure size 432x288 with 1 Axes>"
      ]
     },
     "metadata": {
      "needs_background": "light"
     },
     "output_type": "display_data"
    }
   ],
   "source": [
    "import matplotlib.pyplot as plt\n",
    "from scipy.interpolate import UnivariateSpline\n",
    "x = np.linspace(-3, 3, 50)\n",
    "y = np.exp(-x**2) + 0.1 * np.random.randn(50)\n",
    "plt.plot(x, y, 'ro', ms = 5)\n",
    "plt.show()\n",
    "spl = UnivariateSpline(x, y)\n",
    "xs = np.linspace(-3, 3, 1000)\n",
    "plt.plot(xs, spl(xs), 'g', lw = 3)\n",
    "plt.show()\n",
    "spl.set_smoothing_factor(0.5) #Specifies the number of knots by specifying a smoothing condition.\n",
    "plt.plot(xs, spl(xs), 'b', lw = 3)\n",
    "plt.show()"
   ]
  },
  {
   "cell_type": "markdown",
   "id": "6ccac300",
   "metadata": {},
   "source": [
    "### SciPy - Linalg\n",
    "A scipy.linalg contains all the functions that are in numpy.linalg. Additionally, scipy.linalg also has some other advanced functions that are not in numpy.linalg.\n",
    "\n",
    "**Linear Equations**\n",
    "The scipy.linalg.solve feature solves the linear equation a * x + b * y = Z, for the unknown x, y values."
   ]
  },
  {
   "cell_type": "code",
   "execution_count": 56,
   "id": "b9a66a66",
   "metadata": {},
   "outputs": [
    {
     "name": "stdout",
     "output_type": "stream",
     "text": [
      "Solution of linear equations:  [3.3 0.9 4.4]\n"
     ]
    }
   ],
   "source": [
    "from scipy import linalg\n",
    "a = np.array([[3, 7, -3], [1, -3, 1], [-3, 5, 1]])\n",
    "b = np.array([3, 5, -1])\n",
    "\n",
    "x = linalg.solve(a, b)\n",
    "print(\"Solution of linear equations: \",x)\n"
   ]
  },
  {
   "cell_type": "code",
   "execution_count": 58,
   "id": "e8282377",
   "metadata": {},
   "outputs": [
    {
     "name": "stdout",
     "output_type": "stream",
     "text": [
      "Determinant:  -40.0\n"
     ]
    }
   ],
   "source": [
    "#finding determinant\n",
    "a = np.array([[3, 7, -3], [1, -3, 1], [-3, 5, 1]])\n",
    "x = linalg.det(a)\n",
    "print(\"Determinant: \",x)"
   ]
  },
  {
   "cell_type": "code",
   "execution_count": 59,
   "id": "513d2cf9",
   "metadata": {},
   "outputs": [
    {
     "name": "stdout",
     "output_type": "stream",
     "text": [
      "Eigen values:  [-5.61355905+0.j  5.25849328+0.j  1.35506576+0.j]\n",
      "Eigen vectors:  [[ 0.60802842 -0.83582863  0.37689109]\n",
      " [-0.47581211 -0.03486671  0.28863601]\n",
      " [ 0.63553463  0.54788212  0.8801377 ]]\n"
     ]
    }
   ],
   "source": [
    "#scipy.linalg.eig computes the eigenvalues from an ordinary or generalized eigenvalue problem. \n",
    "#This function returns the Eigen values and the Eigen vectors.\n",
    "a = np.array([[3, 7, -3], [1, -3, 1], [-3, 5, 1]])\n",
    "l, v = linalg.eig(a)\n",
    "print(\"Eigen values: \",l)\n",
    "print(\"Eigen vectors: \",v)"
   ]
  },
  {
   "cell_type": "code",
   "execution_count": null,
   "id": "3e21a784",
   "metadata": {},
   "outputs": [],
   "source": []
  }
 ],
 "metadata": {
  "kernelspec": {
   "display_name": "Python 3",
   "language": "python",
   "name": "python3"
  },
  "language_info": {
   "codemirror_mode": {
    "name": "ipython",
    "version": 3
   },
   "file_extension": ".py",
   "mimetype": "text/x-python",
   "name": "python",
   "nbconvert_exporter": "python",
   "pygments_lexer": "ipython3",
   "version": "3.8.8"
  }
 },
 "nbformat": 4,
 "nbformat_minor": 5
}
