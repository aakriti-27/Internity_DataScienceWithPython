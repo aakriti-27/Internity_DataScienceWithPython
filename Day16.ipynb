{
 "cells": [
  {
   "cell_type": "markdown",
   "id": "8f6b5ab7",
   "metadata": {},
   "source": [
    "**Python Descriptive Statistics** process describes the basic features of data in a study. It delivers summaries on the sample and the measures and does not use the data to learn about the population it represents.\n",
    "\n",
    "Under descriptive statistics, fall two sets of properties- central tendency and dispersion. <br>\n",
    "**Python Central tendency** characterizes one central value for the entire distribution. Measures under this include mean, median, and mode. \n",
    "**Python Dispersion** is the term for a practice that characterizes how apart the members of the distribution are from the center and from each other. Variance/Standard Deviation is one such measure of variability."
   ]
  },
  {
   "cell_type": "code",
   "execution_count": 4,
   "id": "ef4d243d",
   "metadata": {},
   "outputs": [
    {
     "name": "stdout",
     "output_type": "stream",
     "text": [
      "       TripID  TripDuration  TripDistance                 StartTime  \\\n",
      "0        1047          2866          9521  2019-05-13T20:30:00.000Z   \n",
      "1        1053          1387          5753  2019-05-13T20:30:00.000Z   \n",
      "2        1060           962          1630  2019-05-13T20:30:00.000Z   \n",
      "3        1048           423          2149  2019-05-13T20:30:00.000Z   \n",
      "4        1042          3813          6943  2019-05-13T20:30:00.000Z   \n",
      "...       ...           ...           ...                       ...   \n",
      "39752   38617           219           656  2019-05-31T12:00:00.000Z   \n",
      "39753   38464           698          2873  2019-05-31T05:30:00.000Z   \n",
      "39754   38252          5966          4313  2019-05-31T03:30:00.000Z   \n",
      "39755   38256           557          1363  2019-05-31T03:30:00.000Z   \n",
      "39756   38258          1362           947  2019-05-31T03:30:00.000Z   \n",
      "\n",
      "                        EndTime  StartCenterlineID StartCenterlineType  \\\n",
      "0      2019-05-13T21:00:00.000Z                NaN               trail   \n",
      "1      2019-05-13T21:00:00.000Z            17242.0              street   \n",
      "2      2019-05-13T21:00:00.000Z            19502.0              street   \n",
      "3      2019-05-13T20:30:00.000Z            18092.0              street   \n",
      "4      2019-05-13T21:30:00.000Z            18617.0              street   \n",
      "...                         ...                ...                 ...   \n",
      "39752  2019-05-31T12:00:00.000Z            16717.0              street   \n",
      "39753  2019-05-31T06:00:00.000Z            18343.0              street   \n",
      "39754  2019-05-31T05:00:00.000Z            20799.0              street   \n",
      "39755  2019-05-31T03:30:00.000Z            16942.0              street   \n",
      "39756  2019-05-31T04:00:00.000Z            16901.0              street   \n",
      "\n",
      "       EndCenterlineID EndCenterlineType  ObjectId  \n",
      "0                  NaN             trail         1  \n",
      "1              11720.0            street         2  \n",
      "2              17104.0            street         3  \n",
      "3              15446.0            street         4  \n",
      "4                  NaN             trail         5  \n",
      "...                ...               ...       ...  \n",
      "39752          19544.0            street     36996  \n",
      "39753          16803.0            street     36997  \n",
      "39754          17086.0            street     36998  \n",
      "39755          19782.0            street     36999  \n",
      "39756          17606.0            street     37000  \n",
      "\n",
      "[39757 rows x 10 columns]\n"
     ]
    }
   ],
   "source": [
    "import numpy as np\n",
    "import pandas as pd\n",
    "data=pd.read_csv(\"scooter_may2019.csv\")\n",
    "print(data)"
   ]
  },
  {
   "cell_type": "code",
   "execution_count": 69,
   "id": "cbabd481",
   "metadata": {},
   "outputs": [
    {
     "data": {
      "text/html": [
       "<div>\n",
       "<style scoped>\n",
       "    .dataframe tbody tr th:only-of-type {\n",
       "        vertical-align: middle;\n",
       "    }\n",
       "\n",
       "    .dataframe tbody tr th {\n",
       "        vertical-align: top;\n",
       "    }\n",
       "\n",
       "    .dataframe thead th {\n",
       "        text-align: right;\n",
       "    }\n",
       "</style>\n",
       "<table border=\"1\" class=\"dataframe\">\n",
       "  <thead>\n",
       "    <tr style=\"text-align: right;\">\n",
       "      <th></th>\n",
       "      <th>TripID</th>\n",
       "      <th>TripDuration</th>\n",
       "      <th>TripDistance</th>\n",
       "      <th>StartTime</th>\n",
       "      <th>EndTime</th>\n",
       "      <th>StartCenterlineID</th>\n",
       "      <th>StartCenterlineType</th>\n",
       "      <th>EndCenterlineID</th>\n",
       "      <th>EndCenterlineType</th>\n",
       "      <th>ObjectId</th>\n",
       "    </tr>\n",
       "  </thead>\n",
       "  <tbody>\n",
       "    <tr>\n",
       "      <th>0</th>\n",
       "      <td>1047</td>\n",
       "      <td>2866</td>\n",
       "      <td>9521</td>\n",
       "      <td>2019-05-13T20:30:00.000Z</td>\n",
       "      <td>2019-05-13T21:00:00.000Z</td>\n",
       "      <td>NaN</td>\n",
       "      <td>trail</td>\n",
       "      <td>NaN</td>\n",
       "      <td>trail</td>\n",
       "      <td>1</td>\n",
       "    </tr>\n",
       "    <tr>\n",
       "      <th>1</th>\n",
       "      <td>1053</td>\n",
       "      <td>1387</td>\n",
       "      <td>5753</td>\n",
       "      <td>2019-05-13T20:30:00.000Z</td>\n",
       "      <td>2019-05-13T21:00:00.000Z</td>\n",
       "      <td>17242.0</td>\n",
       "      <td>street</td>\n",
       "      <td>11720.0</td>\n",
       "      <td>street</td>\n",
       "      <td>2</td>\n",
       "    </tr>\n",
       "    <tr>\n",
       "      <th>2</th>\n",
       "      <td>1060</td>\n",
       "      <td>962</td>\n",
       "      <td>1630</td>\n",
       "      <td>2019-05-13T20:30:00.000Z</td>\n",
       "      <td>2019-05-13T21:00:00.000Z</td>\n",
       "      <td>19502.0</td>\n",
       "      <td>street</td>\n",
       "      <td>17104.0</td>\n",
       "      <td>street</td>\n",
       "      <td>3</td>\n",
       "    </tr>\n",
       "    <tr>\n",
       "      <th>3</th>\n",
       "      <td>1048</td>\n",
       "      <td>423</td>\n",
       "      <td>2149</td>\n",
       "      <td>2019-05-13T20:30:00.000Z</td>\n",
       "      <td>2019-05-13T20:30:00.000Z</td>\n",
       "      <td>18092.0</td>\n",
       "      <td>street</td>\n",
       "      <td>15446.0</td>\n",
       "      <td>street</td>\n",
       "      <td>4</td>\n",
       "    </tr>\n",
       "    <tr>\n",
       "      <th>4</th>\n",
       "      <td>1042</td>\n",
       "      <td>3813</td>\n",
       "      <td>6943</td>\n",
       "      <td>2019-05-13T20:30:00.000Z</td>\n",
       "      <td>2019-05-13T21:30:00.000Z</td>\n",
       "      <td>18617.0</td>\n",
       "      <td>street</td>\n",
       "      <td>NaN</td>\n",
       "      <td>trail</td>\n",
       "      <td>5</td>\n",
       "    </tr>\n",
       "    <tr>\n",
       "      <th>...</th>\n",
       "      <td>...</td>\n",
       "      <td>...</td>\n",
       "      <td>...</td>\n",
       "      <td>...</td>\n",
       "      <td>...</td>\n",
       "      <td>...</td>\n",
       "      <td>...</td>\n",
       "      <td>...</td>\n",
       "      <td>...</td>\n",
       "      <td>...</td>\n",
       "    </tr>\n",
       "    <tr>\n",
       "      <th>39752</th>\n",
       "      <td>38617</td>\n",
       "      <td>219</td>\n",
       "      <td>656</td>\n",
       "      <td>2019-05-31T12:00:00.000Z</td>\n",
       "      <td>2019-05-31T12:00:00.000Z</td>\n",
       "      <td>16717.0</td>\n",
       "      <td>street</td>\n",
       "      <td>19544.0</td>\n",
       "      <td>street</td>\n",
       "      <td>36996</td>\n",
       "    </tr>\n",
       "    <tr>\n",
       "      <th>39753</th>\n",
       "      <td>38464</td>\n",
       "      <td>698</td>\n",
       "      <td>2873</td>\n",
       "      <td>2019-05-31T05:30:00.000Z</td>\n",
       "      <td>2019-05-31T06:00:00.000Z</td>\n",
       "      <td>18343.0</td>\n",
       "      <td>street</td>\n",
       "      <td>16803.0</td>\n",
       "      <td>street</td>\n",
       "      <td>36997</td>\n",
       "    </tr>\n",
       "    <tr>\n",
       "      <th>39754</th>\n",
       "      <td>38252</td>\n",
       "      <td>5966</td>\n",
       "      <td>4313</td>\n",
       "      <td>2019-05-31T03:30:00.000Z</td>\n",
       "      <td>2019-05-31T05:00:00.000Z</td>\n",
       "      <td>20799.0</td>\n",
       "      <td>street</td>\n",
       "      <td>17086.0</td>\n",
       "      <td>street</td>\n",
       "      <td>36998</td>\n",
       "    </tr>\n",
       "    <tr>\n",
       "      <th>39755</th>\n",
       "      <td>38256</td>\n",
       "      <td>557</td>\n",
       "      <td>1363</td>\n",
       "      <td>2019-05-31T03:30:00.000Z</td>\n",
       "      <td>2019-05-31T03:30:00.000Z</td>\n",
       "      <td>16942.0</td>\n",
       "      <td>street</td>\n",
       "      <td>19782.0</td>\n",
       "      <td>street</td>\n",
       "      <td>36999</td>\n",
       "    </tr>\n",
       "    <tr>\n",
       "      <th>39756</th>\n",
       "      <td>38258</td>\n",
       "      <td>1362</td>\n",
       "      <td>947</td>\n",
       "      <td>2019-05-31T03:30:00.000Z</td>\n",
       "      <td>2019-05-31T04:00:00.000Z</td>\n",
       "      <td>16901.0</td>\n",
       "      <td>street</td>\n",
       "      <td>17606.0</td>\n",
       "      <td>street</td>\n",
       "      <td>37000</td>\n",
       "    </tr>\n",
       "  </tbody>\n",
       "</table>\n",
       "<p>39757 rows × 10 columns</p>\n",
       "</div>"
      ],
      "text/plain": [
       "       TripID  TripDuration  TripDistance                 StartTime  \\\n",
       "0        1047          2866          9521  2019-05-13T20:30:00.000Z   \n",
       "1        1053          1387          5753  2019-05-13T20:30:00.000Z   \n",
       "2        1060           962          1630  2019-05-13T20:30:00.000Z   \n",
       "3        1048           423          2149  2019-05-13T20:30:00.000Z   \n",
       "4        1042          3813          6943  2019-05-13T20:30:00.000Z   \n",
       "...       ...           ...           ...                       ...   \n",
       "39752   38617           219           656  2019-05-31T12:00:00.000Z   \n",
       "39753   38464           698          2873  2019-05-31T05:30:00.000Z   \n",
       "39754   38252          5966          4313  2019-05-31T03:30:00.000Z   \n",
       "39755   38256           557          1363  2019-05-31T03:30:00.000Z   \n",
       "39756   38258          1362           947  2019-05-31T03:30:00.000Z   \n",
       "\n",
       "                        EndTime  StartCenterlineID StartCenterlineType  \\\n",
       "0      2019-05-13T21:00:00.000Z                NaN               trail   \n",
       "1      2019-05-13T21:00:00.000Z            17242.0              street   \n",
       "2      2019-05-13T21:00:00.000Z            19502.0              street   \n",
       "3      2019-05-13T20:30:00.000Z            18092.0              street   \n",
       "4      2019-05-13T21:30:00.000Z            18617.0              street   \n",
       "...                         ...                ...                 ...   \n",
       "39752  2019-05-31T12:00:00.000Z            16717.0              street   \n",
       "39753  2019-05-31T06:00:00.000Z            18343.0              street   \n",
       "39754  2019-05-31T05:00:00.000Z            20799.0              street   \n",
       "39755  2019-05-31T03:30:00.000Z            16942.0              street   \n",
       "39756  2019-05-31T04:00:00.000Z            16901.0              street   \n",
       "\n",
       "       EndCenterlineID EndCenterlineType  ObjectId  \n",
       "0                  NaN             trail         1  \n",
       "1              11720.0            street         2  \n",
       "2              17104.0            street         3  \n",
       "3              15446.0            street         4  \n",
       "4                  NaN             trail         5  \n",
       "...                ...               ...       ...  \n",
       "39752          19544.0            street     36996  \n",
       "39753          16803.0            street     36997  \n",
       "39754          17086.0            street     36998  \n",
       "39755          19782.0            street     36999  \n",
       "39756          17606.0            street     37000  \n",
       "\n",
       "[39757 rows x 10 columns]"
      ]
     },
     "execution_count": 69,
     "metadata": {},
     "output_type": "execute_result"
    }
   ],
   "source": [
    "df = pd.DataFrame(data)\n",
    "df"
   ]
  },
  {
   "cell_type": "code",
   "execution_count": 70,
   "id": "a75199d0",
   "metadata": {},
   "outputs": [
    {
     "data": {
      "text/plain": [
       "0        9521\n",
       "1        5753\n",
       "2        1630\n",
       "3        2149\n",
       "4        6943\n",
       "         ... \n",
       "39752     656\n",
       "39753    2873\n",
       "39754    4313\n",
       "39755    1363\n",
       "39756     947\n",
       "Name: TripDistance, Length: 39757, dtype: int64"
      ]
     },
     "execution_count": 70,
     "metadata": {},
     "output_type": "execute_result"
    }
   ],
   "source": [
    "distance = df[df.columns[2]]\n",
    "distance"
   ]
  },
  {
   "cell_type": "code",
   "execution_count": 71,
   "id": "c9eb0c54",
   "metadata": {},
   "outputs": [
    {
     "name": "stdout",
     "output_type": "stream",
     "text": [
      "Total Distance covered in May2019:  91165407\n"
     ]
    }
   ],
   "source": [
    "#Total distance\n",
    "print(\"Total Distance covered in May2019: \",distance.sum())"
   ]
  },
  {
   "cell_type": "code",
   "execution_count": 72,
   "id": "25a871db",
   "metadata": {},
   "outputs": [
    {
     "name": "stdout",
     "output_type": "stream",
     "text": [
      "Mean Distance:  2293.0655482053476\n"
     ]
    }
   ],
   "source": [
    "#mean\n",
    "print(\"Mean Distance: \",distance.mean())"
   ]
  },
  {
   "cell_type": "code",
   "execution_count": 73,
   "id": "ad45545b",
   "metadata": {},
   "outputs": [
    {
     "name": "stdout",
     "output_type": "stream",
     "text": [
      "Standard deviation of distances:  2293.3688083856714\n"
     ]
    }
   ],
   "source": [
    "#standard deviation\n",
    "print(\"Standard deviation of distances: \",distance.std())"
   ]
  },
  {
   "cell_type": "code",
   "execution_count": 74,
   "id": "717beffc",
   "metadata": {},
   "outputs": [
    {
     "name": "stdout",
     "output_type": "stream",
     "text": [
      "Maximum Distance covered in May2019:  32732\n"
     ]
    }
   ],
   "source": [
    "#max\n",
    "print(\"Maximum Distance covered in May2019: \",distance.max())"
   ]
  },
  {
   "cell_type": "code",
   "execution_count": 75,
   "id": "305ba0e0",
   "metadata": {},
   "outputs": [
    {
     "name": "stdout",
     "output_type": "stream",
     "text": [
      "Minimum Distance covered in May2019:  1\n"
     ]
    }
   ],
   "source": [
    "#min\n",
    "print(\"Minimum Distance covered in May2019: \",distance.min())"
   ]
  },
  {
   "cell_type": "code",
   "execution_count": 89,
   "id": "defd7c3a",
   "metadata": {},
   "outputs": [
    {
     "name": "stdout",
     "output_type": "stream",
     "text": [
      "Mode of distance:  0    4\n",
      "dtype: int64\n"
     ]
    }
   ],
   "source": [
    "#Mode\n",
    "print(\"Mode of distance: \",distance.mode())"
   ]
  },
  {
   "cell_type": "code",
   "execution_count": 90,
   "id": "3b5418b5",
   "metadata": {},
   "outputs": [
    {
     "name": "stdout",
     "output_type": "stream",
     "text": [
      "Count:  39757\n"
     ]
    }
   ],
   "source": [
    "#count - Number of non-null observations\n",
    "print(\"Count: \",distance.count())"
   ]
  },
  {
   "cell_type": "code",
   "execution_count": 86,
   "id": "acfbea98",
   "metadata": {},
   "outputs": [
    {
     "name": "stdout",
     "output_type": "stream",
     "text": [
      "Product :  0\n"
     ]
    }
   ],
   "source": [
    "print(\"Product : \",distance.prod())"
   ]
  },
  {
   "cell_type": "code",
   "execution_count": 87,
   "id": "d292a339",
   "metadata": {},
   "outputs": [
    {
     "name": "stdout",
     "output_type": "stream",
     "text": [
      "Cummuative Sum :  0            9521\n",
      "1           15274\n",
      "2           16904\n",
      "3           19053\n",
      "4           25996\n",
      "           ...   \n",
      "39752    91155911\n",
      "39753    91158784\n",
      "39754    91163097\n",
      "39755    91164460\n",
      "39756    91165407\n",
      "Name: TripDistance, Length: 39757, dtype: int64\n"
     ]
    }
   ],
   "source": [
    "print(\"Cummuative Sum : \",distance.cumsum())"
   ]
  },
  {
   "cell_type": "code",
   "execution_count": 88,
   "id": "e32ea6f1",
   "metadata": {},
   "outputs": [
    {
     "name": "stdout",
     "output_type": "stream",
     "text": [
      "Cummuative Product :  0                       9521\n",
      "1                   54774313\n",
      "2                89282130190\n",
      "3            191867297778310\n",
      "4        1332134648474806330\n",
      "                ...         \n",
      "39752                      0\n",
      "39753                      0\n",
      "39754                      0\n",
      "39755                      0\n",
      "39756                      0\n",
      "Name: TripDistance, Length: 39757, dtype: int64\n"
     ]
    }
   ],
   "source": [
    "print(\"Cummuative Product : \",distance.cumprod())"
   ]
  },
  {
   "cell_type": "markdown",
   "id": "a745837e",
   "metadata": {},
   "source": [
    "**Summarising data**"
   ]
  },
  {
   "cell_type": "code",
   "execution_count": 91,
   "id": "9efd037d",
   "metadata": {},
   "outputs": [
    {
     "name": "stdout",
     "output_type": "stream",
     "text": [
      "             TripID  TripDuration  TripDistance  StartCenterlineID  \\\n",
      "count  39757.000000  39757.000000  39757.000000       35217.000000   \n",
      "mean   21623.625726   1072.624745   2293.065548       17648.990516   \n",
      "std    11969.840416   1184.074724   2293.368808        3152.013501   \n",
      "min     1000.000000      3.000000      1.000000       10009.000000   \n",
      "25%    11215.000000    342.000000    741.000000       16201.000000   \n",
      "50%    21612.000000    653.000000   1549.000000       17242.000000   \n",
      "75%    31940.000000   1328.000000   3106.000000       18950.000000   \n",
      "max    42502.000000  12371.000000  32732.000000       26146.000000   \n",
      "\n",
      "       EndCenterlineID      ObjectId  \n",
      "count     34031.000000  39757.000000  \n",
      "mean      17679.711116  19879.000000  \n",
      "std        3228.660070  11477.001663  \n",
      "min       10006.000000      1.000000  \n",
      "25%       16086.000000   9940.000000  \n",
      "50%       17240.000000  19879.000000  \n",
      "75%       19245.000000  29818.000000  \n",
      "max       26147.000000  39757.000000  \n"
     ]
    }
   ],
   "source": [
    "print(df.describe())\n"
   ]
  },
  {
   "cell_type": "markdown",
   "id": "ac342a86",
   "metadata": {},
   "source": [
    "**object − Summarizes String columns<br>\n",
    "number − Summarizes Numeric columns<br>\n",
    "all − Summarizes all columns together (Should not pass it as a list value)**"
   ]
  },
  {
   "cell_type": "code",
   "execution_count": 92,
   "id": "c2b64dfd",
   "metadata": {},
   "outputs": [
    {
     "name": "stdout",
     "output_type": "stream",
     "text": [
      "                       StartTime                   EndTime  \\\n",
      "count                      39757                     39757   \n",
      "unique                       861                       866   \n",
      "top     2019-05-25T20:30:00.000Z  2019-05-25T21:30:00.000Z   \n",
      "freq                         221                       209   \n",
      "\n",
      "       StartCenterlineType EndCenterlineType  \n",
      "count                39757             39757  \n",
      "unique                   2                 2  \n",
      "top                 street            street  \n",
      "freq                 35217             34031  \n"
     ]
    }
   ],
   "source": [
    "print(df.describe(include=['object']))\n"
   ]
  },
  {
   "cell_type": "code",
   "execution_count": 93,
   "id": "f3272c1f",
   "metadata": {},
   "outputs": [
    {
     "name": "stdout",
     "output_type": "stream",
     "text": [
      "             TripID  TripDuration  TripDistance  StartCenterlineID  \\\n",
      "count  39757.000000  39757.000000  39757.000000       35217.000000   \n",
      "mean   21623.625726   1072.624745   2293.065548       17648.990516   \n",
      "std    11969.840416   1184.074724   2293.368808        3152.013501   \n",
      "min     1000.000000      3.000000      1.000000       10009.000000   \n",
      "25%    11215.000000    342.000000    741.000000       16201.000000   \n",
      "50%    21612.000000    653.000000   1549.000000       17242.000000   \n",
      "75%    31940.000000   1328.000000   3106.000000       18950.000000   \n",
      "max    42502.000000  12371.000000  32732.000000       26146.000000   \n",
      "\n",
      "       EndCenterlineID      ObjectId  \n",
      "count     34031.000000  39757.000000  \n",
      "mean      17679.711116  19879.000000  \n",
      "std        3228.660070  11477.001663  \n",
      "min       10006.000000      1.000000  \n",
      "25%       16086.000000   9940.000000  \n",
      "50%       17240.000000  19879.000000  \n",
      "75%       19245.000000  29818.000000  \n",
      "max       26147.000000  39757.000000  \n"
     ]
    }
   ],
   "source": [
    "print(df.describe(include=['number']))\n"
   ]
  },
  {
   "cell_type": "markdown",
   "id": "511e31b8",
   "metadata": {},
   "source": [
    "### NumPy Random"
   ]
  },
  {
   "cell_type": "markdown",
   "id": "05bfe957",
   "metadata": {},
   "source": [
    "**Generating random numbers**"
   ]
  },
  {
   "cell_type": "code",
   "execution_count": 98,
   "id": "64f88cb3",
   "metadata": {},
   "outputs": [
    {
     "name": "stdout",
     "output_type": "stream",
     "text": [
      "44\n"
     ]
    }
   ],
   "source": [
    "from numpy import random\n",
    "x = random.randint(50)\n",
    "print(x)"
   ]
  },
  {
   "cell_type": "code",
   "execution_count": 100,
   "id": "e71f9fa2",
   "metadata": {},
   "outputs": [
    {
     "name": "stdout",
     "output_type": "stream",
     "text": [
      "[0.68161882 0.65004326 0.42751654 0.36048943 0.2325223  0.30703076\n",
      " 0.84318482 0.95703804 0.21780229 0.26817462 0.74684197 0.91070647\n",
      " 0.87068872 0.98559957 0.65588976 0.78572599 0.43357807 0.48963087\n",
      " 0.85369636 0.8525568  0.48553808 0.97677142 0.52430453 0.99084509\n",
      " 0.67077334 0.03123531 0.59765745 0.59454068 0.41152308 0.84868812\n",
      " 0.44339514 0.26354359 0.83554831 0.94912332 0.05400489 0.11001282\n",
      " 0.80147946 0.84733877 0.94641405 0.24487419 0.17914561 0.37244969\n",
      " 0.41914489 0.10309044 0.28934049 0.76956771 0.44609064 0.10752676\n",
      " 0.18166133 0.52645388]\n"
     ]
    }
   ],
   "source": [
    "#The random module's rand() method returns a random float between 0 and 1.\n",
    "x = random.rand(50)\n",
    "print(x)"
   ]
  },
  {
   "cell_type": "markdown",
   "id": "c82345ed",
   "metadata": {},
   "source": [
    "numpy.random.random() returns an array of specified shape and fills it with random floats in the half-open interval [0.0, 1.0).\n",
    "\n",
    "numpy.random.randint() returns an array of specified shape and fills it with random integers from low (inclusive) to high (exclusive), i.e. in the interval [low, high).\n"
   ]
  },
  {
   "cell_type": "code",
   "execution_count": 94,
   "id": "88e5faff",
   "metadata": {},
   "outputs": [
    {
     "data": {
      "text/plain": [
       "array([[0.46928691, 0.31263232],\n",
       "       [0.79274171, 0.55454541],\n",
       "       [0.67030655, 0.87703274]])"
      ]
     },
     "execution_count": 94,
     "metadata": {},
     "output_type": "execute_result"
    }
   ],
   "source": [
    "np.random.random((3,2))"
   ]
  },
  {
   "cell_type": "code",
   "execution_count": 95,
   "id": "c4aa36f9",
   "metadata": {},
   "outputs": [
    {
     "data": {
      "text/plain": [
       "array([[1, 1],\n",
       "       [4, 4],\n",
       "       [6, 4]])"
      ]
     },
     "execution_count": 95,
     "metadata": {},
     "output_type": "execute_result"
    }
   ],
   "source": [
    "np.random.randint(low = 1, high = 10, size = (3,2))"
   ]
  },
  {
   "cell_type": "markdown",
   "id": "08fe93f3",
   "metadata": {},
   "source": [
    "**Choice method**\n",
    "The choice() method allows you to generate a random value based on an array of values."
   ]
  },
  {
   "cell_type": "code",
   "execution_count": 103,
   "id": "70488e55",
   "metadata": {},
   "outputs": [
    {
     "name": "stdout",
     "output_type": "stream",
     "text": [
      "7\n"
     ]
    }
   ],
   "source": [
    "from numpy import random\n",
    "x = random.choice([3, 5, 7, 9])\n",
    "print(x)"
   ]
  },
  {
   "cell_type": "code",
   "execution_count": 104,
   "id": "eaa5f38c",
   "metadata": {},
   "outputs": [
    {
     "name": "stdout",
     "output_type": "stream",
     "text": [
      "[[9 3]\n",
      " [9 5]]\n"
     ]
    }
   ],
   "source": [
    "x = random.choice([3, 5, 7, 9],size=(2,2))\n",
    "print(x)"
   ]
  },
  {
   "cell_type": "markdown",
   "id": "52e42741",
   "metadata": {},
   "source": [
    "**Random Distribution**"
   ]
  },
  {
   "cell_type": "markdown",
   "id": "6d5b63ce",
   "metadata": {},
   "source": [
    "A random distribution is a set of random numbers that follow a certain probability density function.\n",
    "\n",
    "Probability Density Function: A function that describes a continuous probability. i.e. probability of all values in an array.\n",
    "\n",
    "We can generate random numbers based on defined probabilities using the choice() method of the random module.\n",
    "\n",
    "The choice() method allows us to specify the probability for each value."
   ]
  },
  {
   "cell_type": "code",
   "execution_count": 107,
   "id": "9d83e517",
   "metadata": {},
   "outputs": [
    {
     "name": "stdout",
     "output_type": "stream",
     "text": [
      "[[1 3 2]\n",
      " [3 3 3]]\n"
     ]
    }
   ],
   "source": [
    "# Generate an array of size= 2X3, where each value has to be 1,2,3 or 4\n",
    "# The probability for the value to be 1 is set to be 0.1\n",
    "# The probability for the value to be 2 is set to be 0.3\n",
    "# The probability for the value to be 3 is set to be 0.6\n",
    "# The probability for the value to be 4 is set to be 0\n",
    "\n",
    "x = random.choice([1,2,3,4], p=[0.1, 0.3, 0.6, 0.0], size=(2,3))\n",
    "\n",
    "print(x)"
   ]
  },
  {
   "cell_type": "markdown",
   "id": "71837028",
   "metadata": {},
   "source": [
    "### SciPy\n",
    "The SciPy is an open-source scientific library of Python that is distributed under a BSD license. It is used to solve the complex scientific and mathematical problems. It is built on top of the Numpy extension, which means if we import the SciPy, there is no need to import Numpy.\n",
    "\n",
    "**SciPy Stats**\n",
    "The scipy.stats contains a large number of statistics, probability distributions functions.\n",
    "\n",
    "rv_continuos\tIt is a base class to construct specific distribution classes and instances for continuous random variable.<br>\n",
    "rv_discrete\tIt is a base class to construct specific distribution classes and instances for discrete random variables.<br>\n",
    "rv_histogram\tIt can be inherited from rv_continuous class. It generates a distribution given by a histogram."
   ]
  },
  {
   "cell_type": "code",
   "execution_count": 2,
   "id": "24a85453",
   "metadata": {},
   "outputs": [],
   "source": [
    "from scipy.stats import norm"
   ]
  },
  {
   "cell_type": "markdown",
   "id": "e2b34f64",
   "metadata": {},
   "source": [
    "**Normal Continuous Random Variable**\n",
    "A probability distribution in which the random variable X can take any value is continuous random variable. The location (loc) keyword specifies the mean. The scale (scale) keyword specifies the standard deviation.\n",
    "\n",
    "The cumulative distribution function (CDF) of a real-valued random variable X, or just distribution function of X, evaluated at x, is the probability that X will take a value less than or equal to x"
   ]
  },
  {
   "cell_type": "code",
   "execution_count": 5,
   "id": "0e3311e3",
   "metadata": {},
   "outputs": [
    {
     "name": "stdout",
     "output_type": "stream",
     "text": [
      "[0.9986501  0.15865525 0.5        0.84134475 0.97724987 0.99996833\n",
      " 0.02275013 0.99999971]\n"
     ]
    }
   ],
   "source": [
    "print(norm.cdf(np.array([3,-1., 0, 1, 2, 4, -2, 5])))  "
   ]
  },
  {
   "cell_type": "code",
   "execution_count": 6,
   "id": "ca663339",
   "metadata": {},
   "outputs": [
    {
     "name": "stdout",
     "output_type": "stream",
     "text": [
      "[[-0.33541738 -0.02932694]\n",
      " [ 0.00864725 -0.94280673]]\n"
     ]
    }
   ],
   "source": [
    "print(norm.rvs(loc = 0, scale = 1,size=(2,2)))"
   ]
  },
  {
   "cell_type": "markdown",
   "id": "4f27231c",
   "metadata": {},
   "source": [
    "The uniform function generates a uniform continuous variable between the specified interval via its loc and scale arguments. This distribution is constant between loc and loc + scale. The size arguments describe the number of random variates"
   ]
  }
 ],
 "metadata": {
  "kernelspec": {
   "display_name": "Python 3",
   "language": "python",
   "name": "python3"
  },
  "language_info": {
   "codemirror_mode": {
    "name": "ipython",
    "version": 3
   },
   "file_extension": ".py",
   "mimetype": "text/x-python",
   "name": "python",
   "nbconvert_exporter": "python",
   "pygments_lexer": "ipython3",
   "version": "3.8.8"
  }
 },
 "nbformat": 4,
 "nbformat_minor": 5
}
